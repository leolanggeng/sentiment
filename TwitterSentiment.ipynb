{
 "cells": [
  {
   "cell_type": "markdown",
   "id": "211d573f",
   "metadata": {
    "papermill": {
     "duration": 0.010375,
     "end_time": "2022-10-14T19:56:47.024670",
     "exception": false,
     "start_time": "2022-10-14T19:56:47.014295",
     "status": "completed"
    },
    "tags": []
   },
   "source": [
    "#  Importing Libraries\n"
   ]
  },
  {
   "cell_type": "code",
   "execution_count": 207,
   "id": "ec2c2996",
   "metadata": {
    "execution": {
     "iopub.execute_input": "2022-10-14T19:56:47.042202Z",
     "iopub.status.busy": "2022-10-14T19:56:47.041432Z",
     "iopub.status.idle": "2022-10-14T19:56:47.055917Z",
     "shell.execute_reply": "2022-10-14T19:56:47.054979Z"
    },
    "papermill": {
     "duration": 0.02615,
     "end_time": "2022-10-14T19:56:47.058494",
     "exception": false,
     "start_time": "2022-10-14T19:56:47.032344",
     "status": "completed"
    },
    "tags": []
   },
   "outputs": [],
   "source": [
    "import numpy as np\n",
    "import pandas as pd"
   ]
  },
  {
   "cell_type": "code",
   "execution_count": 239,
   "id": "1c74218b",
   "metadata": {
    "execution": {
     "iopub.execute_input": "2022-10-14T19:56:47.075648Z",
     "iopub.status.busy": "2022-10-14T19:56:47.074947Z",
     "iopub.status.idle": "2022-10-14T19:56:54.476058Z",
     "shell.execute_reply": "2022-10-14T19:56:54.474921Z"
    },
    "papermill": {
     "duration": 7.412925,
     "end_time": "2022-10-14T19:56:54.478925",
     "exception": false,
     "start_time": "2022-10-14T19:56:47.066000",
     "status": "completed"
    },
    "tags": []
   },
   "outputs": [
    {
     "name": "stderr",
     "output_type": "stream",
     "text": [
      "[nltk_data] Downloading package stopwords to\n",
      "[nltk_data]     /Users/saulbarajas/nltk_data...\n",
      "[nltk_data]   Package stopwords is already up-to-date!\n"
     ]
    }
   ],
   "source": [
    "import tensorflow as tf\n",
    "import matplotlib.pyplot as plt\n",
    "from sklearn.model_selection import cross_val_score\n",
    "from sklearn.model_selection import cross_val_predict\n",
    "import nltk\n",
    "nltk.download('stopwords')\n",
    "from nltk.corpus import stopwords\n",
    "from nltk.stem import SnowballStemmer\n",
    "import re\n",
    "import pickle\n",
    "import seaborn as sns\n",
    "from sklearn.svm import LinearSVC\n",
    "from sklearn.naive_bayes import BernoulliNB\n",
    "from sklearn.linear_model import LogisticRegression\n",
    "\n",
    "from sklearn.model_selection import train_test_split\n",
    "from sklearn.model_selection import KFold\n",
    "from sklearn.model_selection import LeavePOut\n",
    "from sklearn.feature_extraction.text import TfidfVectorizer\n",
    "from sklearn.feature_extraction.text import CountVectorizer\n",
    "\n",
    "from sklearn.metrics import confusion_matrix, classification_report\n"
   ]
  },
  {
   "cell_type": "markdown",
   "id": "9e3666fe",
   "metadata": {
    "papermill": {
     "duration": 0.007567,
     "end_time": "2022-10-14T19:56:54.494364",
     "exception": false,
     "start_time": "2022-10-14T19:56:54.486797",
     "status": "completed"
    },
    "tags": []
   },
   "source": [
    "# Importing Dataset"
   ]
  },
  {
   "cell_type": "code",
   "execution_count": 209,
   "id": "a5c98446",
   "metadata": {
    "execution": {
     "iopub.execute_input": "2022-10-14T19:56:54.512069Z",
     "iopub.status.busy": "2022-10-14T19:56:54.511380Z",
     "iopub.status.idle": "2022-10-14T19:57:01.532814Z",
     "shell.execute_reply": "2022-10-14T19:57:01.531662Z"
    },
    "papermill": {
     "duration": 7.0329,
     "end_time": "2022-10-14T19:57:01.535299",
     "exception": false,
     "start_time": "2022-10-14T19:56:54.502399",
     "status": "completed"
    },
    "tags": []
   },
   "outputs": [
    {
     "data": {
      "text/html": [
       "<div>\n",
       "<style scoped>\n",
       "    .dataframe tbody tr th:only-of-type {\n",
       "        vertical-align: middle;\n",
       "    }\n",
       "\n",
       "    .dataframe tbody tr th {\n",
       "        vertical-align: top;\n",
       "    }\n",
       "\n",
       "    .dataframe thead th {\n",
       "        text-align: right;\n",
       "    }\n",
       "</style>\n",
       "<table border=\"1\" class=\"dataframe\">\n",
       "  <thead>\n",
       "    <tr style=\"text-align: right;\">\n",
       "      <th></th>\n",
       "      <th>0</th>\n",
       "      <th>1</th>\n",
       "      <th>2</th>\n",
       "      <th>3</th>\n",
       "      <th>4</th>\n",
       "      <th>5</th>\n",
       "    </tr>\n",
       "  </thead>\n",
       "  <tbody>\n",
       "    <tr>\n",
       "      <th>0</th>\n",
       "      <td>0</td>\n",
       "      <td>1467810369</td>\n",
       "      <td>Mon Apr 06 22:19:45 PDT 2009</td>\n",
       "      <td>NO_QUERY</td>\n",
       "      <td>_TheSpecialOne_</td>\n",
       "      <td>@switchfoot http://twitpic.com/2y1zl - Awww, t...</td>\n",
       "    </tr>\n",
       "    <tr>\n",
       "      <th>1</th>\n",
       "      <td>0</td>\n",
       "      <td>1467810672</td>\n",
       "      <td>Mon Apr 06 22:19:49 PDT 2009</td>\n",
       "      <td>NO_QUERY</td>\n",
       "      <td>scotthamilton</td>\n",
       "      <td>is upset that he can't update his Facebook by ...</td>\n",
       "    </tr>\n",
       "    <tr>\n",
       "      <th>2</th>\n",
       "      <td>0</td>\n",
       "      <td>1467810917</td>\n",
       "      <td>Mon Apr 06 22:19:53 PDT 2009</td>\n",
       "      <td>NO_QUERY</td>\n",
       "      <td>mattycus</td>\n",
       "      <td>@Kenichan I dived many times for the ball. Man...</td>\n",
       "    </tr>\n",
       "    <tr>\n",
       "      <th>3</th>\n",
       "      <td>0</td>\n",
       "      <td>1467811184</td>\n",
       "      <td>Mon Apr 06 22:19:57 PDT 2009</td>\n",
       "      <td>NO_QUERY</td>\n",
       "      <td>ElleCTF</td>\n",
       "      <td>my whole body feels itchy and like its on fire</td>\n",
       "    </tr>\n",
       "    <tr>\n",
       "      <th>4</th>\n",
       "      <td>0</td>\n",
       "      <td>1467811193</td>\n",
       "      <td>Mon Apr 06 22:19:57 PDT 2009</td>\n",
       "      <td>NO_QUERY</td>\n",
       "      <td>Karoli</td>\n",
       "      <td>@nationwideclass no, it's not behaving at all....</td>\n",
       "    </tr>\n",
       "  </tbody>\n",
       "</table>\n",
       "</div>"
      ],
      "text/plain": [
       "   0           1                             2         3                4  \\\n",
       "0  0  1467810369  Mon Apr 06 22:19:45 PDT 2009  NO_QUERY  _TheSpecialOne_   \n",
       "1  0  1467810672  Mon Apr 06 22:19:49 PDT 2009  NO_QUERY    scotthamilton   \n",
       "2  0  1467810917  Mon Apr 06 22:19:53 PDT 2009  NO_QUERY         mattycus   \n",
       "3  0  1467811184  Mon Apr 06 22:19:57 PDT 2009  NO_QUERY          ElleCTF   \n",
       "4  0  1467811193  Mon Apr 06 22:19:57 PDT 2009  NO_QUERY           Karoli   \n",
       "\n",
       "                                                   5  \n",
       "0  @switchfoot http://twitpic.com/2y1zl - Awww, t...  \n",
       "1  is upset that he can't update his Facebook by ...  \n",
       "2  @Kenichan I dived many times for the ball. Man...  \n",
       "3    my whole body feels itchy and like its on fire   \n",
       "4  @nationwideclass no, it's not behaving at all....  "
      ]
     },
     "execution_count": 209,
     "metadata": {},
     "output_type": "execute_result"
    }
   ],
   "source": [
    "df = pd.read_csv('/Users/saulbarajas/Downloads/training.1600000.processed.noemoticon.csv',\n",
    "                 encoding = 'latin',header=None)\n",
    "df.head()"
   ]
  },
  {
   "cell_type": "markdown",
   "id": "72eb1ac7",
   "metadata": {
    "papermill": {
     "duration": 0.009406,
     "end_time": "2022-10-14T19:57:01.553034",
     "exception": false,
     "start_time": "2022-10-14T19:57:01.543628",
     "status": "completed"
    },
    "tags": []
   },
   "source": [
    "# Analysing the Data"
   ]
  },
  {
   "cell_type": "code",
   "execution_count": 210,
   "id": "13ccf736",
   "metadata": {
    "execution": {
     "iopub.execute_input": "2022-10-14T19:57:01.570853Z",
     "iopub.status.busy": "2022-10-14T19:57:01.570470Z",
     "iopub.status.idle": "2022-10-14T19:57:01.578238Z",
     "shell.execute_reply": "2022-10-14T19:57:01.577045Z"
    },
    "papermill": {
     "duration": 0.019282,
     "end_time": "2022-10-14T19:57:01.580666",
     "exception": false,
     "start_time": "2022-10-14T19:57:01.561384",
     "status": "completed"
    },
    "tags": []
   },
   "outputs": [
    {
     "data": {
      "text/plain": [
       "(1600000, 6)"
      ]
     },
     "execution_count": 210,
     "metadata": {},
     "output_type": "execute_result"
    }
   ],
   "source": [
    "df.shape"
   ]
  },
  {
   "cell_type": "code",
   "execution_count": 211,
   "id": "727c5959",
   "metadata": {
    "execution": {
     "iopub.execute_input": "2022-10-14T19:57:01.598009Z",
     "iopub.status.busy": "2022-10-14T19:57:01.597583Z",
     "iopub.status.idle": "2022-10-14T19:57:01.603047Z",
     "shell.execute_reply": "2022-10-14T19:57:01.601798Z"
    },
    "papermill": {
     "duration": 0.016926,
     "end_time": "2022-10-14T19:57:01.605619",
     "exception": false,
     "start_time": "2022-10-14T19:57:01.588693",
     "status": "completed"
    },
    "tags": []
   },
   "outputs": [],
   "source": [
    "df.columns=['sentiments','id','date','query','user','tweet']"
   ]
  },
  {
   "cell_type": "code",
   "execution_count": 212,
   "id": "c32fbe48",
   "metadata": {
    "execution": {
     "iopub.execute_input": "2022-10-14T19:57:01.623346Z",
     "iopub.status.busy": "2022-10-14T19:57:01.622928Z",
     "iopub.status.idle": "2022-10-14T19:57:01.636137Z",
     "shell.execute_reply": "2022-10-14T19:57:01.635015Z"
    },
    "papermill": {
     "duration": 0.024766,
     "end_time": "2022-10-14T19:57:01.638524",
     "exception": false,
     "start_time": "2022-10-14T19:57:01.613758",
     "status": "completed"
    },
    "tags": []
   },
   "outputs": [
    {
     "data": {
      "text/html": [
       "<div>\n",
       "<style scoped>\n",
       "    .dataframe tbody tr th:only-of-type {\n",
       "        vertical-align: middle;\n",
       "    }\n",
       "\n",
       "    .dataframe tbody tr th {\n",
       "        vertical-align: top;\n",
       "    }\n",
       "\n",
       "    .dataframe thead th {\n",
       "        text-align: right;\n",
       "    }\n",
       "</style>\n",
       "<table border=\"1\" class=\"dataframe\">\n",
       "  <thead>\n",
       "    <tr style=\"text-align: right;\">\n",
       "      <th></th>\n",
       "      <th>sentiments</th>\n",
       "      <th>id</th>\n",
       "      <th>date</th>\n",
       "      <th>query</th>\n",
       "      <th>user</th>\n",
       "      <th>tweet</th>\n",
       "    </tr>\n",
       "  </thead>\n",
       "  <tbody>\n",
       "    <tr>\n",
       "      <th>0</th>\n",
       "      <td>0</td>\n",
       "      <td>1467810369</td>\n",
       "      <td>Mon Apr 06 22:19:45 PDT 2009</td>\n",
       "      <td>NO_QUERY</td>\n",
       "      <td>_TheSpecialOne_</td>\n",
       "      <td>@switchfoot http://twitpic.com/2y1zl - Awww, t...</td>\n",
       "    </tr>\n",
       "    <tr>\n",
       "      <th>1</th>\n",
       "      <td>0</td>\n",
       "      <td>1467810672</td>\n",
       "      <td>Mon Apr 06 22:19:49 PDT 2009</td>\n",
       "      <td>NO_QUERY</td>\n",
       "      <td>scotthamilton</td>\n",
       "      <td>is upset that he can't update his Facebook by ...</td>\n",
       "    </tr>\n",
       "    <tr>\n",
       "      <th>2</th>\n",
       "      <td>0</td>\n",
       "      <td>1467810917</td>\n",
       "      <td>Mon Apr 06 22:19:53 PDT 2009</td>\n",
       "      <td>NO_QUERY</td>\n",
       "      <td>mattycus</td>\n",
       "      <td>@Kenichan I dived many times for the ball. Man...</td>\n",
       "    </tr>\n",
       "    <tr>\n",
       "      <th>3</th>\n",
       "      <td>0</td>\n",
       "      <td>1467811184</td>\n",
       "      <td>Mon Apr 06 22:19:57 PDT 2009</td>\n",
       "      <td>NO_QUERY</td>\n",
       "      <td>ElleCTF</td>\n",
       "      <td>my whole body feels itchy and like its on fire</td>\n",
       "    </tr>\n",
       "    <tr>\n",
       "      <th>4</th>\n",
       "      <td>0</td>\n",
       "      <td>1467811193</td>\n",
       "      <td>Mon Apr 06 22:19:57 PDT 2009</td>\n",
       "      <td>NO_QUERY</td>\n",
       "      <td>Karoli</td>\n",
       "      <td>@nationwideclass no, it's not behaving at all....</td>\n",
       "    </tr>\n",
       "  </tbody>\n",
       "</table>\n",
       "</div>"
      ],
      "text/plain": [
       "   sentiments          id                          date     query  \\\n",
       "0           0  1467810369  Mon Apr 06 22:19:45 PDT 2009  NO_QUERY   \n",
       "1           0  1467810672  Mon Apr 06 22:19:49 PDT 2009  NO_QUERY   \n",
       "2           0  1467810917  Mon Apr 06 22:19:53 PDT 2009  NO_QUERY   \n",
       "3           0  1467811184  Mon Apr 06 22:19:57 PDT 2009  NO_QUERY   \n",
       "4           0  1467811193  Mon Apr 06 22:19:57 PDT 2009  NO_QUERY   \n",
       "\n",
       "              user                                              tweet  \n",
       "0  _TheSpecialOne_  @switchfoot http://twitpic.com/2y1zl - Awww, t...  \n",
       "1    scotthamilton  is upset that he can't update his Facebook by ...  \n",
       "2         mattycus  @Kenichan I dived many times for the ball. Man...  \n",
       "3          ElleCTF    my whole body feels itchy and like its on fire   \n",
       "4           Karoli  @nationwideclass no, it's not behaving at all....  "
      ]
     },
     "execution_count": 212,
     "metadata": {},
     "output_type": "execute_result"
    }
   ],
   "source": [
    "df.head()"
   ]
  },
  {
   "cell_type": "code",
   "execution_count": 213,
   "id": "40f9c1ea",
   "metadata": {
    "execution": {
     "iopub.execute_input": "2022-10-14T19:57:01.657045Z",
     "iopub.status.busy": "2022-10-14T19:57:01.656644Z",
     "iopub.status.idle": "2022-10-14T19:57:01.703311Z",
     "shell.execute_reply": "2022-10-14T19:57:01.702019Z"
    },
    "papermill": {
     "duration": 0.059188,
     "end_time": "2022-10-14T19:57:01.706143",
     "exception": false,
     "start_time": "2022-10-14T19:57:01.646955",
     "status": "completed"
    },
    "tags": []
   },
   "outputs": [],
   "source": [
    "df=df[['sentiments','tweet']]"
   ]
  },
  {
   "cell_type": "code",
   "execution_count": 214,
   "id": "e70843cd",
   "metadata": {
    "execution": {
     "iopub.execute_input": "2022-10-14T19:57:01.724758Z",
     "iopub.status.busy": "2022-10-14T19:57:01.724369Z",
     "iopub.status.idle": "2022-10-14T19:57:02.125849Z",
     "shell.execute_reply": "2022-10-14T19:57:02.124954Z"
    },
    "papermill": {
     "duration": 0.413711,
     "end_time": "2022-10-14T19:57:02.128343",
     "exception": false,
     "start_time": "2022-10-14T19:57:01.714632",
     "status": "completed"
    },
    "tags": []
   },
   "outputs": [
    {
     "data": {
      "text/plain": [
       "[Text(0, 0, 'Negative'), Text(1, 0, 'Positive')]"
      ]
     },
     "execution_count": 214,
     "metadata": {},
     "output_type": "execute_result"
    },
    {
     "data": {
      "image/png": "[encoded data removed]",
      "text/plain": [
       "<Figure size 640x480 with 1 Axes>"
      ]
     },
     "metadata": {},
     "output_type": "display_data"
    }
   ],
   "source": [
    "ax = df.groupby('sentiments').count().plot(kind='bar', title='Distribution of data',legend=False)\n",
    "ax.set_xticklabels(['Negative','Positive'], rotation=0)\n"
   ]
  },
  {
   "cell_type": "markdown",
   "id": "aef05b2e",
   "metadata": {
    "papermill": {
     "duration": 0.008749,
     "end_time": "2022-10-14T19:57:02.146388",
     "exception": false,
     "start_time": "2022-10-14T19:57:02.137639",
     "status": "completed"
    },
    "tags": []
   },
   "source": [
    "# Preprocessing the Data\n",
    "* Stemming \n",
    "* Lematization\n",
    "* removing Hyperlinks and useraccounts\n",
    "* removing Stopwords\n",
    "\n",
    "using NLTK for text processing"
   ]
  },
  {
   "cell_type": "code",
   "execution_count": 215,
   "id": "9024d5ad",
   "metadata": {
    "execution": {
     "iopub.execute_input": "2022-10-14T19:57:02.166778Z",
     "iopub.status.busy": "2022-10-14T19:57:02.165823Z",
     "iopub.status.idle": "2022-10-14T19:57:02.173893Z",
     "shell.execute_reply": "2022-10-14T19:57:02.173085Z"
    },
    "papermill": {
     "duration": 0.020597,
     "end_time": "2022-10-14T19:57:02.176189",
     "exception": false,
     "start_time": "2022-10-14T19:57:02.155592",
     "status": "completed"
    },
    "tags": []
   },
   "outputs": [],
   "source": [
    "stop_words = stopwords.words('english')\n",
    "stemmer = SnowballStemmer('english')\n",
    "\n",
    "text_cleaning_re = \"@\\S+|https?:\\S+|http?:\\S|[^A-Za-z0-9]+\""
   ]
  },
  {
   "cell_type": "code",
   "execution_count": 216,
   "id": "3fa1329d",
   "metadata": {
    "execution": {
     "iopub.execute_input": "2022-10-14T19:57:02.195860Z",
     "iopub.status.busy": "2022-10-14T19:57:02.195428Z",
     "iopub.status.idle": "2022-10-14T19:57:02.202180Z",
     "shell.execute_reply": "2022-10-14T19:57:02.201196Z"
    },
    "papermill": {
     "duration": 0.018908,
     "end_time": "2022-10-14T19:57:02.204353",
     "exception": false,
     "start_time": "2022-10-14T19:57:02.185445",
     "status": "completed"
    },
    "tags": []
   },
   "outputs": [],
   "source": [
    "def preprocess(text, stem=False):\n",
    "  text = re.sub(text_cleaning_re, ' ', str(text).lower()).strip()\n",
    "  tokens = []\n",
    "  for token in text.split():\n",
    "    if token not in stop_words:\n",
    "      if stem:\n",
    "        tokens.append(stemmer.stem(token))\n",
    "      else:\n",
    "        tokens.append(token)\n",
    "  return \" \".join(tokens)"
   ]
  },
  {
   "cell_type": "code",
   "execution_count": 217,
   "id": "b1cb181e",
   "metadata": {
    "execution": {
     "iopub.execute_input": "2022-10-14T19:57:02.222976Z",
     "iopub.status.busy": "2022-10-14T19:57:02.222542Z",
     "iopub.status.idle": "2022-10-14T19:58:04.052670Z",
     "shell.execute_reply": "2022-10-14T19:58:04.051370Z"
    },
    "papermill": {
     "duration": 61.842962,
     "end_time": "2022-10-14T19:58:04.055674",
     "exception": false,
     "start_time": "2022-10-14T19:57:02.212712",
     "status": "completed"
    },
    "tags": []
   },
   "outputs": [],
   "source": [
    "df.tweet = df.tweet.apply(lambda x: preprocess(x))"
   ]
  },
  {
   "cell_type": "code",
   "execution_count": 218,
   "id": "86290ba9",
   "metadata": {
    "execution": {
     "iopub.execute_input": "2022-10-14T19:58:04.074767Z",
     "iopub.status.busy": "2022-10-14T19:58:04.074392Z",
     "iopub.status.idle": "2022-10-14T19:58:04.388042Z",
     "shell.execute_reply": "2022-10-14T19:58:04.386931Z"
    },
    "papermill": {
     "duration": 0.326117,
     "end_time": "2022-10-14T19:58:04.390550",
     "exception": false,
     "start_time": "2022-10-14T19:58:04.064433",
     "status": "completed"
    },
    "tags": []
   },
   "outputs": [],
   "source": [
    "tweet , sentiments = list(df['tweet']), list(df['sentiments'])"
   ]
  },
  {
   "cell_type": "code",
   "execution_count": 219,
   "id": "0a8712e5",
   "metadata": {
    "execution": {
     "iopub.execute_input": "2022-10-14T19:58:04.410496Z",
     "iopub.status.busy": "2022-10-14T19:58:04.410107Z",
     "iopub.status.idle": "2022-10-14T19:58:04.420264Z",
     "shell.execute_reply": "2022-10-14T19:58:04.419035Z"
    },
    "papermill": {
     "duration": 0.022854,
     "end_time": "2022-10-14T19:58:04.422984",
     "exception": false,
     "start_time": "2022-10-14T19:58:04.400130",
     "status": "completed"
    },
    "tags": []
   },
   "outputs": [
    {
     "data": {
      "text/html": [
       "<div>\n",
       "<style scoped>\n",
       "    .dataframe tbody tr th:only-of-type {\n",
       "        vertical-align: middle;\n",
       "    }\n",
       "\n",
       "    .dataframe tbody tr th {\n",
       "        vertical-align: top;\n",
       "    }\n",
       "\n",
       "    .dataframe thead th {\n",
       "        text-align: right;\n",
       "    }\n",
       "</style>\n",
       "<table border=\"1\" class=\"dataframe\">\n",
       "  <thead>\n",
       "    <tr style=\"text-align: right;\">\n",
       "      <th></th>\n",
       "      <th>sentiments</th>\n",
       "      <th>tweet</th>\n",
       "    </tr>\n",
       "  </thead>\n",
       "  <tbody>\n",
       "    <tr>\n",
       "      <th>0</th>\n",
       "      <td>0</td>\n",
       "      <td>awww bummer shoulda got david carr third day</td>\n",
       "    </tr>\n",
       "    <tr>\n",
       "      <th>1</th>\n",
       "      <td>0</td>\n",
       "      <td>upset update facebook texting might cry result...</td>\n",
       "    </tr>\n",
       "    <tr>\n",
       "      <th>2</th>\n",
       "      <td>0</td>\n",
       "      <td>dived many times ball managed save 50 rest go ...</td>\n",
       "    </tr>\n",
       "    <tr>\n",
       "      <th>3</th>\n",
       "      <td>0</td>\n",
       "      <td>whole body feels itchy like fire</td>\n",
       "    </tr>\n",
       "    <tr>\n",
       "      <th>4</th>\n",
       "      <td>0</td>\n",
       "      <td>behaving mad see</td>\n",
       "    </tr>\n",
       "  </tbody>\n",
       "</table>\n",
       "</div>"
      ],
      "text/plain": [
       "   sentiments                                              tweet\n",
       "0           0       awww bummer shoulda got david carr third day\n",
       "1           0  upset update facebook texting might cry result...\n",
       "2           0  dived many times ball managed save 50 rest go ...\n",
       "3           0                   whole body feels itchy like fire\n",
       "4           0                                   behaving mad see"
      ]
     },
     "execution_count": 219,
     "metadata": {},
     "output_type": "execute_result"
    }
   ],
   "source": [
    "df.head()"
   ]
  },
  {
   "cell_type": "markdown",
   "id": "d6cff1ca",
   "metadata": {
    "papermill": {
     "duration": 0.00855,
     "end_time": "2022-10-14T19:58:04.440338",
     "exception": false,
     "start_time": "2022-10-14T19:58:04.431788",
     "status": "completed"
    },
    "tags": []
   },
   "source": [
    "# Hold-out cross-validation"
   ]
  },
  {
   "cell_type": "code",
   "execution_count": 222,
   "id": "9269dfd2",
   "metadata": {
    "execution": {
     "iopub.execute_input": "2022-10-14T19:58:04.459655Z",
     "iopub.status.busy": "2022-10-14T19:58:04.459275Z",
     "iopub.status.idle": "2022-10-14T19:58:05.395828Z",
     "shell.execute_reply": "2022-10-14T19:58:05.394874Z"
    },
    "papermill": {
     "duration": 0.949373,
     "end_time": "2022-10-14T19:58:05.398517",
     "exception": false,
     "start_time": "2022-10-14T19:58:04.449144",
     "status": "completed"
    },
    "tags": []
   },
   "outputs": [],
   "source": [
    "X_train, X_test, y_train, y_test = train_test_split(tweet,sentiments,test_size=0.2,random_state=0)"
   ]
  },
  {
   "cell_type": "markdown",
   "id": "5c37d0b1",
   "metadata": {
    "papermill": {
     "duration": 0.00851,
     "end_time": "2022-10-14T19:58:05.415908",
     "exception": false,
     "start_time": "2022-10-14T19:58:05.407398",
     "status": "completed"
    },
    "tags": []
   },
   "source": [
    "# TF-IDF, Bag of Words, Word2Vec Vectorizing"
   ]
  },
  {
   "cell_type": "code",
   "execution_count": 220,
   "id": "6cf65d86",
   "metadata": {
    "execution": {
     "iopub.execute_input": "2022-10-14T19:58:05.435253Z",
     "iopub.status.busy": "2022-10-14T19:58:05.434835Z",
     "iopub.status.idle": "2022-10-14T19:58:58.419211Z",
     "shell.execute_reply": "2022-10-14T19:58:58.418017Z"
    },
    "papermill": {
     "duration": 53.003725,
     "end_time": "2022-10-14T19:58:58.428391",
     "exception": false,
     "start_time": "2022-10-14T19:58:05.424666",
     "status": "completed"
    },
    "tags": []
   },
   "outputs": [],
   "source": [
    "def TFIDFVect(X_train,X_test):\n",
    "    vectoriser = TfidfVectorizer(ngram_range=(1,2),max_features=50000)\n",
    "    vectoriser = vectoriser.fit(X_train)\n",
    "    return vectoriser"
   ]
  },
  {
   "cell_type": "code",
   "execution_count": 221,
   "id": "7bf3f9c3",
   "metadata": {
    "execution": {
     "iopub.execute_input": "2022-10-14T19:58:58.448089Z",
     "iopub.status.busy": "2022-10-14T19:58:58.447647Z",
     "iopub.status.idle": "2022-10-14T19:59:27.777551Z",
     "shell.execute_reply": "2022-10-14T19:59:27.776588Z"
    },
    "papermill": {
     "duration": 29.342921,
     "end_time": "2022-10-14T19:59:27.780384",
     "exception": false,
     "start_time": "2022-10-14T19:58:58.437463",
     "status": "completed"
    },
    "tags": []
   },
   "outputs": [],
   "source": [
    "def BagWordsVect(X_train,X_test):\n",
    "    vectoriser = CountVectorizer(ngram_range=(1,2),max_features=50000)\n",
    "    vectoriser = vectoriser.fit(X_train)\n",
    "    return vectoriser\n"
   ]
  },
  {
   "cell_type": "code",
   "execution_count": 223,
   "id": "26926238",
   "metadata": {},
   "outputs": [],
   "source": [
    "vectoriser = TFIDFVect(X_train,X_test)\n",
    "#vectoriser = BagWordsVect(X_train,X_test)\n",
    "#vectoriser = Word2Vect(X_train,X_test)\n",
    "X_train = vectoriser.transform(X_train)\n",
    "X_test  = vectoriser.transform(X_test)"
   ]
  },
  {
   "cell_type": "markdown",
   "id": "d4febec6",
   "metadata": {
    "papermill": {
     "duration": 0.008571,
     "end_time": "2022-10-14T19:59:27.798079",
     "exception": false,
     "start_time": "2022-10-14T19:59:27.789508",
     "status": "completed"
    },
    "tags": []
   },
   "source": [
    "# Creating Models"
   ]
  },
  {
   "cell_type": "code",
   "execution_count": 234,
   "id": "caf95690",
   "metadata": {
    "execution": {
     "iopub.execute_input": "2022-10-14T19:59:27.818033Z",
     "iopub.status.busy": "2022-10-14T19:59:27.817051Z",
     "iopub.status.idle": "2022-10-14T19:59:27.826690Z",
     "shell.execute_reply": "2022-10-14T19:59:27.825327Z"
    },
    "papermill": {
     "duration": 0.022603,
     "end_time": "2022-10-14T19:59:27.829475",
     "exception": false,
     "start_time": "2022-10-14T19:59:27.806872",
     "status": "completed"
    },
    "tags": []
   },
   "outputs": [],
   "source": [
    "def model_Evaluate(model):\n",
    "    y_pred = model.predict(X_test)\n",
    "    print(classification_report(y_test, y_pred))\n",
    "    cf_matrix = confusion_matrix(y_test, y_pred)\n",
    "    categories  = ['Negative','Positive']\n",
    "    group_names = ['True Neg','False Pos', 'False Neg','True Pos']\n",
    "    group_percentages = ['{0:.2%}'.format(value) for value in cf_matrix.flatten() / np.sum(cf_matrix)]\n",
    "\n",
    "    labels = [f'{v1}\\n{v2}' for v1, v2 in zip(group_names,group_percentages)]\n",
    "    labels = np.asarray(labels).reshape(2,2)\n",
    "\n",
    "    sns.heatmap(cf_matrix, annot = labels, cmap = 'Blues',fmt = '',xticklabels = categories, yticklabels = categories)\n",
    "\n",
    "    plt.xlabel(\"Predicted values\", fontdict = {'size':14}, labelpad = 10)\n",
    "    plt.ylabel(\"Actual values\"   , fontdict = {'size':14}, labelpad = 10)\n",
    "    plt.title (\"Confusion Matrix\", fontdict = {'size':18}, pad = 20)\n",
    "    "
   ]
  },
  {
   "cell_type": "code",
   "execution_count": 246,
   "id": "8dcafb4d",
   "metadata": {},
   "outputs": [],
   "source": [
    "def model_EvaluateKFold(model):\n",
    "    y_pred = cross_val_predict(model, X_test, y_test, cv=10)\n",
    "    print(classification_report(y_test, y_pred))\n",
    "    cf_matrix = confusion_matrix(y_test, y_pred)\n",
    "    categories  = ['Negative','Positive']\n",
    "    group_names = ['True Neg','False Pos', 'False Neg','True Pos']\n",
    "    group_percentages = ['{0:.2%}'.format(value) for value in cf_matrix.flatten() / np.sum(cf_matrix)]\n",
    "\n",
    "    labels = [f'{v1}\\n{v2}' for v1, v2 in zip(group_names,group_percentages)]\n",
    "    labels = np.asarray(labels).reshape(2,2)\n",
    "\n",
    "    sns.heatmap(cf_matrix, annot = labels, cmap = 'Blues',fmt = '',xticklabels = categories, yticklabels = categories)\n",
    "\n",
    "    plt.xlabel(\"Predicted values\", fontdict = {'size':14}, labelpad = 10)\n",
    "    plt.ylabel(\"Actual values\"   , fontdict = {'size':14}, labelpad = 10)\n",
    "    plt.title (\"Confusion Matrix\", fontdict = {'size':18}, pad = 20)"
   ]
  },
  {
   "cell_type": "markdown",
   "id": "e93f9bb5",
   "metadata": {
    "papermill": {
     "duration": 0.008669,
     "end_time": "2022-10-14T19:59:27.847083",
     "exception": false,
     "start_time": "2022-10-14T19:59:27.838414",
     "status": "completed"
    },
    "tags": []
   },
   "source": [
    "# Logistic Regression"
   ]
  },
  {
   "cell_type": "code",
   "execution_count": 149,
   "id": "7b69f6a6",
   "metadata": {
    "execution": {
     "iopub.execute_input": "2022-10-14T19:59:27.867278Z",
     "iopub.status.busy": "2022-10-14T19:59:27.866475Z",
     "iopub.status.idle": "2022-10-14T20:01:22.810955Z",
     "shell.execute_reply": "2022-10-14T20:01:22.809865Z"
    },
    "papermill": {
     "duration": 114.957105,
     "end_time": "2022-10-14T20:01:22.813541",
     "exception": false,
     "start_time": "2022-10-14T19:59:27.856436",
     "status": "completed"
    },
    "tags": []
   },
   "outputs": [
    {
     "name": "stderr",
     "output_type": "stream",
     "text": [
      "<frozen importlib._bootstrap>:219: RuntimeWarning: scipy._lib.messagestream.MessageStream size changed, may indicate binary incompatibility. Expected 56 from C header, got 64 from PyObject\n"
     ]
    },
    {
     "name": "stdout",
     "output_type": "stream",
     "text": [
      "              precision    recall  f1-score   support\n",
      "\n",
      "           0       0.80      0.77      0.79     39989\n",
      "           4       0.78      0.81      0.79     40011\n",
      "\n",
      "    accuracy                           0.79     80000\n",
      "   macro avg       0.79      0.79      0.79     80000\n",
      "weighted avg       0.79      0.79      0.79     80000\n",
      "\n"
     ]
    },
    {
     "data": {
      "image/png": "[encoded data removed]",
      "text/plain": [
       "<Figure size 640x480 with 2 Axes>"
      ]
     },
     "metadata": {},
     "output_type": "display_data"
    }
   ],
   "source": [
    "LRmodel = LogisticRegression(C = 2, max_iter = 1000, n_jobs=-1)\n",
    "LRmodel.fit(X_train, y_train)\n",
    "model_Evaluate(LRmodel)"
   ]
  },
  {
   "cell_type": "code",
   "execution_count": null,
   "id": "522e366f",
   "metadata": {},
   "outputs": [],
   "source": [
    "LRmodelKFold = LogisticRegression(C = 2, max_iter = 1000, n_jobs=-1)\n",
    "scores = cross_val_score(LRmodelKFold, X_train, y_train, cv=10)\n",
    "scores"
   ]
  },
  {
   "cell_type": "markdown",
   "id": "5c5c290c",
   "metadata": {
    "papermill": {
     "duration": 0.009046,
     "end_time": "2022-10-14T20:01:22.832000",
     "exception": false,
     "start_time": "2022-10-14T20:01:22.822954",
     "status": "completed"
    },
    "tags": []
   },
   "source": [
    "# Linear Support Vector Classification"
   ]
  },
  {
   "cell_type": "code",
   "execution_count": 150,
   "id": "2387e9d9",
   "metadata": {
    "execution": {
     "iopub.execute_input": "2022-10-14T20:01:22.852844Z",
     "iopub.status.busy": "2022-10-14T20:01:22.851779Z",
     "iopub.status.idle": "2022-10-14T20:01:54.226227Z",
     "shell.execute_reply": "2022-10-14T20:01:54.225100Z"
    },
    "papermill": {
     "duration": 31.387699,
     "end_time": "2022-10-14T20:01:54.228777",
     "exception": false,
     "start_time": "2022-10-14T20:01:22.841078",
     "status": "completed"
    },
    "tags": []
   },
   "outputs": [
    {
     "name": "stdout",
     "output_type": "stream",
     "text": [
      "              precision    recall  f1-score   support\n",
      "\n",
      "           0       0.80      0.76      0.78     39989\n",
      "           4       0.77      0.81      0.79     40011\n",
      "\n",
      "    accuracy                           0.79     80000\n",
      "   macro avg       0.79      0.79      0.79     80000\n",
      "weighted avg       0.79      0.79      0.79     80000\n",
      "\n"
     ]
    },
    {
     "data": {
      "image/png": "[encoded data removed]",
      "text/plain": [
       "<Figure size 640x480 with 2 Axes>"
      ]
     },
     "metadata": {},
     "output_type": "display_data"
    }
   ],
   "source": [
    "SVCmodel = LinearSVC()\n",
    "SVCmodel.fit(X_train, y_train)\n",
    "model_Evaluate(SVCmodel)\n"
   ]
  },
  {
   "cell_type": "code",
   "execution_count": 242,
   "id": "71b377aa",
   "metadata": {},
   "outputs": [
    {
     "data": {
      "text/plain": [
       "array([0.78407812, 0.78316406, 0.78203125, 0.78352344, 0.78199219,\n",
       "       0.78536719, 0.78425781, 0.78398437, 0.78586719, 0.78442969])"
      ]
     },
     "execution_count": 242,
     "metadata": {},
     "output_type": "execute_result"
    }
   ],
   "source": [
    "SVCmodelKFold = LinearSVC()\n",
    "scores = cross_val_score(SVCmodelKFold, X_train, y_train, cv=10)\n",
    "scores"
   ]
  },
  {
   "cell_type": "markdown",
   "id": "2f9c510d",
   "metadata": {
    "papermill": {
     "duration": 0.009276,
     "end_time": "2022-10-14T20:01:54.247848",
     "exception": false,
     "start_time": "2022-10-14T20:01:54.238572",
     "status": "completed"
    },
    "tags": []
   },
   "source": [
    "# BernoulliNB"
   ]
  },
  {
   "cell_type": "code",
   "execution_count": 151,
   "id": "5c37aa98",
   "metadata": {
    "execution": {
     "iopub.execute_input": "2022-10-14T20:01:54.268831Z",
     "iopub.status.busy": "2022-10-14T20:01:54.268417Z",
     "iopub.status.idle": "2022-10-14T20:01:55.502855Z",
     "shell.execute_reply": "2022-10-14T20:01:55.501725Z"
    },
    "papermill": {
     "duration": 1.247634,
     "end_time": "2022-10-14T20:01:55.505155",
     "exception": false,
     "start_time": "2022-10-14T20:01:54.257521",
     "status": "completed"
    },
    "tags": []
   },
   "outputs": [
    {
     "name": "stdout",
     "output_type": "stream",
     "text": [
      "              precision    recall  f1-score   support\n",
      "\n",
      "           0       0.79      0.76      0.77     39989\n",
      "           4       0.77      0.80      0.78     40011\n",
      "\n",
      "    accuracy                           0.78     80000\n",
      "   macro avg       0.78      0.78      0.78     80000\n",
      "weighted avg       0.78      0.78      0.78     80000\n",
      "\n"
     ]
    },
    {
     "data": {
      "image/png": "[encoded data removed]",
      "text/plain": [
       "<Figure size 640x480 with 2 Axes>"
      ]
     },
     "metadata": {},
     "output_type": "display_data"
    }
   ],
   "source": [
    "BNBmodel = BernoulliNB(alpha = 2)\n",
    "BNBmodel.fit(X_train, y_train)\n",
    "model_Evaluate(BNBmodel)"
   ]
  },
  {
   "cell_type": "code",
   "execution_count": 241,
   "id": "afb668f3",
   "metadata": {},
   "outputs": [
    {
     "data": {
      "text/plain": [
       "array([0.77428906, 0.77286719, 0.77230469, 0.77355469, 0.77342188,\n",
       "       0.7751875 , 0.77386719, 0.77305469, 0.77457813, 0.77508594])"
      ]
     },
     "execution_count": 241,
     "metadata": {},
     "output_type": "execute_result"
    }
   ],
   "source": [
    "BNBmodelKFold = BernoulliNB(alpha = 2)\n",
    "scores = cross_val_score(BNBmodelKFold, X_train, y_train, cv=10)\n",
    "scores"
   ]
  },
  {
   "cell_type": "code",
   "execution_count": 247,
   "id": "5f6c28ea",
   "metadata": {},
   "outputs": [
    {
     "data": {
      "text/plain": [
       "array([[119585,  40230],\n",
       "       [ 33946, 126239]])"
      ]
     },
     "execution_count": 247,
     "metadata": {},
     "output_type": "execute_result"
    }
   ],
   "source": [
    "Y_pred = cross_val_predict(BNBmodelKFold, X_test, y_test, cv=10)\n",
    "cf_matrix = confusion_matrix(y_test, Y_pred)\n",
    "cf_matrix\n",
    "\n"
   ]
  },
  {
   "cell_type": "code",
   "execution_count": 248,
   "id": "aefd87a2",
   "metadata": {},
   "outputs": [
    {
     "name": "stdout",
     "output_type": "stream",
     "text": [
      "              precision    recall  f1-score   support\n",
      "\n",
      "           0       0.78      0.75      0.76    159815\n",
      "           4       0.76      0.79      0.77    160185\n",
      "\n",
      "    accuracy                           0.77    320000\n",
      "   macro avg       0.77      0.77      0.77    320000\n",
      "weighted avg       0.77      0.77      0.77    320000\n",
      "\n"
     ]
    },
    {
     "data": {
      "image/png": "[encoded data removed]",
      "text/plain": [
       "<Figure size 640x480 with 2 Axes>"
      ]
     },
     "metadata": {},
     "output_type": "display_data"
    }
   ],
   "source": [
    "model_EvaluateKFold(BNBmodelKFold)"
   ]
  },
  {
   "cell_type": "markdown",
   "id": "a067c7b5",
   "metadata": {},
   "source": [
    "# MultinomialNB"
   ]
  },
  {
   "cell_type": "code",
   "execution_count": null,
   "id": "d59c90d3",
   "metadata": {},
   "outputs": [],
   "source": []
  },
  {
   "cell_type": "markdown",
   "id": "77036632",
   "metadata": {
    "papermill": {
     "duration": 0.009776,
     "end_time": "2022-10-14T20:01:55.525074",
     "exception": false,
     "start_time": "2022-10-14T20:01:55.515298",
     "status": "completed"
    },
    "tags": []
   },
   "source": [
    "# Saving the model and vectorizer files"
   ]
  },
  {
   "cell_type": "code",
   "execution_count": 21,
   "id": "6b999c15",
   "metadata": {
    "execution": {
     "iopub.execute_input": "2022-10-14T20:01:55.547390Z",
     "iopub.status.busy": "2022-10-14T20:01:55.546496Z",
     "iopub.status.idle": "2022-10-14T20:01:58.681232Z",
     "shell.execute_reply": "2022-10-14T20:01:58.680041Z"
    },
    "papermill": {
     "duration": 3.149225,
     "end_time": "2022-10-14T20:01:58.684333",
     "exception": false,
     "start_time": "2022-10-14T20:01:55.535108",
     "status": "completed"
    },
    "tags": []
   },
   "outputs": [],
   "source": [
    "file = open('vectoriser','wb')\n",
    "pickle.dump(vectoriser, file)\n",
    "file.close()\n",
    "\n",
    "file = open('Sentiment-LR.pickle','wb')\n",
    "pickle.dump(LRmodel, file)\n",
    "file.close()\n",
    "\n",
    "file = open('Sentiment-SVC.pickle','wb')\n",
    "pickle.dump(SVCmodel, file)\n",
    "file.close()\n",
    "\n",
    "file = open('Sentiment-BNB.pickle','wb')\n",
    "pickle.dump(BNBmodel, file)\n",
    "file.close()"
   ]
  },
  {
   "cell_type": "markdown",
   "id": "8f9a7e67",
   "metadata": {
    "papermill": {
     "duration": 0.010176,
     "end_time": "2022-10-14T20:01:58.704770",
     "exception": false,
     "start_time": "2022-10-14T20:01:58.694594",
     "status": "completed"
    },
    "tags": []
   },
   "source": [
    "# Testing the Models"
   ]
  },
  {
   "cell_type": "code",
   "execution_count": 22,
   "id": "4954b596",
   "metadata": {
    "execution": {
     "iopub.execute_input": "2022-10-14T20:01:58.727704Z",
     "iopub.status.busy": "2022-10-14T20:01:58.727263Z",
     "iopub.status.idle": "2022-10-14T20:02:00.566376Z",
     "shell.execute_reply": "2022-10-14T20:02:00.565258Z"
    },
    "papermill": {
     "duration": 1.854298,
     "end_time": "2022-10-14T20:02:00.569577",
     "exception": false,
     "start_time": "2022-10-14T20:01:58.715279",
     "status": "completed"
    },
    "tags": []
   },
   "outputs": [
    {
     "name": "stdout",
     "output_type": "stream",
     "text": [
      "Logistic Regression \n",
      "\n",
      "                          tweet sentiment\n",
      "0                  I hate Data   Negative\n",
      "1                  I love Data   Positive\n",
      "2  He passed away at the age 70  Negative \n",
      "\n",
      "BNB Model \n",
      "\n",
      "                          tweet sentiment\n",
      "0                  I hate Data   Negative\n",
      "1                  I love Data   Positive\n",
      "2  He passed away at the age 70  Negative \n",
      "\n",
      "SVC Model \n",
      "\n",
      "                          tweet sentiment\n",
      "0                  I hate Data   Negative\n",
      "1                  I love Data   Positive\n",
      "2  He passed away at the age 70  Negative \n",
      "\n"
     ]
    }
   ],
   "source": [
    "file = open('./vectoriser', 'rb')\n",
    "vectoriser = pickle.load(file)\n",
    "file.close()\n",
    "file = open('./Sentiment-LR.pickle', 'rb')\n",
    "LRmodel = pickle.load(file)\n",
    "file.close()\n",
    "file = open('./Sentiment-BNB.pickle', 'rb')\n",
    "BNBmodel = pickle.load(file)\n",
    "file.close()\n",
    "file = open('./Sentiment-SVC.pickle', 'rb')\n",
    "SVCmodel = pickle.load(file)\n",
    "file.close()\n",
    "    \n",
    "\n",
    "def predict1(vectoriser, model, tweet):\n",
    "    textdata = vectoriser.transform(tweet)\n",
    "    sentiment = model.predict(textdata)\n",
    "    data = []\n",
    "    for tweet, pred in zip(tweet, sentiment):\n",
    "        data.append((tweet,pred))\n",
    "    df = pd.DataFrame(data, columns = ['tweet','sentiment'])\n",
    "    df = df.replace([0,4], [\"Negative\",\"Positive\"])\n",
    "    return df\n",
    "\n",
    "def predict2(vectoriser, model, tweet):\n",
    "    textdata = vectoriser.transform(tweet)\n",
    "    sentiment = model.predict(textdata)\n",
    "    data = []\n",
    "    for tweet, pred in zip(tweet, sentiment):\n",
    "        data.append((tweet,pred))\n",
    "    df = pd.DataFrame(data, columns = ['tweet','sentiment'])\n",
    "    df = df.replace([0,4], [\"Negative\",\"Positive\"])\n",
    "    return df\n",
    "\n",
    "tweet = [\"I hate Data \",\"I love Data \",\"He passed away at the age 70\"]\n",
    "\n",
    "print(\"Logistic Regression \\n\")\n",
    "df = predict1(vectoriser, LRmodel, tweet)\n",
    "print(df.head(), \"\\n\")\n",
    "print(\"BNB Model \\n\")\n",
    "df = predict2(vectoriser, BNBmodel,tweet)\n",
    "print(df.head(), \"\\n\")\n",
    "print(\"SVC Model \\n\")\n",
    "df = predict2(vectoriser, SVCmodel,tweet)\n",
    "print(df.head(),'\\n' )"
   ]
  }
 ],
 "metadata": {
  "kernelspec": {
   "display_name": "Python 3.8.13 ('MachineLearning')",
   "language": "python",
   "name": "python3"
  },
  "language_info": {
   "codemirror_mode": {
    "name": "ipython",
    "version": 3
   },
   "file_extension": ".py",
   "mimetype": "text/x-python",
   "name": "python",
   "nbconvert_exporter": "python",
   "pygments_lexer": "ipython3",
   "version": "3.8.13"
  },
  "papermill": {
   "default_parameters": {},
   "duration": 325.326868,
   "end_time": "2022-10-14T20:02:03.303724",
   "environment_variables": {},
   "exception": null,
   "input_path": "__notebook__.ipynb",
   "output_path": "__notebook__.ipynb",
   "parameters": {},
   "start_time": "2022-10-14T19:56:37.976856",
   "version": "2.3.4"
  },
  "vscode": {
   "interpreter": {
    "hash": "63ed8502af68876de234b6bcdeed483383a512b98c976b0e7582a6a98edf84e6"
   }
  }
 },
 "nbformat": 4,
 "nbformat_minor": 5
}
